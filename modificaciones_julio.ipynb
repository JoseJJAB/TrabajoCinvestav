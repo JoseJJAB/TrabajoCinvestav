{
 "cells": [
  {
   "cell_type": "code",
   "execution_count": 27,
   "metadata": {},
   "outputs": [
    {
     "data": {
      "text/plain": [
       "devuelvedatos (generic function with 1 method)"
      ]
     },
     "execution_count": 27,
     "metadata": {},
     "output_type": "execute_result"
    }
   ],
   "source": [
    "using PyPlot, HDF5;\n",
    "using Statistics\n",
    "include(\"sacadatos.jl\")"
   ]
  },
  {
   "cell_type": "code",
   "execution_count": 6,
   "metadata": {},
   "outputs": [],
   "source": [
    "nomine = \"280518_19.hf5\";"
   ]
  },
  {
   "cell_type": "code",
   "execution_count": 7,
   "metadata": {},
   "outputs": [],
   "source": [
    "datos = h5open(nomine, \"r\");"
   ]
  },
  {
   "cell_type": "code",
   "execution_count": 8,
   "metadata": {},
   "outputs": [
    {
     "data": {
      "text/plain": [
       "5-element Array{String,1}:\n",
       " \"Im_primaryIm_sec\"\n",
       " \"Im_sec\"          \n",
       " \"channels\"        \n",
       " \"comment\"         \n",
       " \"description\"     "
      ]
     },
     "execution_count": 8,
     "metadata": {},
     "output_type": "execute_result"
    }
   ],
   "source": [
    "names(datos)"
   ]
  },
  {
   "cell_type": "code",
   "execution_count": 13,
   "metadata": {},
   "outputs": [
    {
     "data": {
      "text/plain": [
       "1-element Array{HDF5.HDF5Compound{1},1}:\n",
       " HDF5.HDF5Compound{1}((17,), (\"n_sections\",), (Int32,))"
      ]
     },
     "execution_count": 13,
     "metadata": {},
     "output_type": "execute_result"
    }
   ],
   "source": [
    "aux=read(datos[\"Im_primaryIm_sec\"]);\n",
    "aux[\"description\"]"
   ]
  },
  {
   "cell_type": "code",
   "execution_count": 24,
   "metadata": {},
   "outputs": [
    {
     "name": "stdout",
     "output_type": "stream",
     "text": [
      "la descripcion de tus barridas de datos son las siguientes\n",
      "HDF5.HDF5Compound{3}[HDF5Compound{3}((0.04, \"ms\", \"mV\"), (\"dt\", \"xunits\", \"yunits\"), (Float64, String, String))]\n"
     ]
    }
   ],
   "source": [
    "sweps = devuelvedatos(datos, \"Im_primaryIm_sec\");"
   ]
  },
  {
   "cell_type": "code",
   "execution_count": 25,
   "metadata": {},
   "outputs": [
    {
     "data": {
      "text/plain": [
       "encuentraespigas (generic function with 2 methods)"
      ]
     },
     "execution_count": 25,
     "metadata": {},
     "output_type": "execute_result"
    }
   ],
   "source": [
    "function encuentraespigas(datos::Dict, umbral=-10)\n",
    "   result = Dict{String, Any}()\n",
    "    for (key,value) in datos\n",
    "        aux=findall(x->x>umbral, value)\n",
    "        if length(aux)>0\n",
    "            result[key]=aux\n",
    "        end\n",
    "    end\n",
    "    return result\n",
    "end"
   ]
  },
  {
   "cell_type": "code",
   "execution_count": 26,
   "metadata": {},
   "outputs": [
    {
     "data": {
      "text/plain": [
       "Dict{String,Any} with 12 entries:\n",
       "  \"section_06\" => [2969, 2970, 2971, 2972, 2973, 2974, 2975, 2976, 2977, 2978  …\n",
       "  \"section_13\" => [2596, 2597, 2598, 2599, 2600, 2601, 2602, 2603, 2604, 2605  …\n",
       "  \"section_10\" => [2625, 2626, 2627, 2628, 2629, 2630, 2631, 2632, 2633, 2634  …\n",
       "  \"section_14\" => [2590, 2591, 2592, 2593, 2594, 2595, 2596, 2597, 2598, 2599  …\n",
       "  \"section_12\" => [2630, 2631, 2632, 2633, 2634, 2635, 2636, 2637, 2638, 2639  …\n",
       "  \"section_05\" => [3216, 3217, 3218, 3219, 3220, 3221, 3222, 3223, 3224, 3225  …\n",
       "  \"section_16\" => [2565, 2566, 2567, 2568, 2569, 2570, 2571, 2572, 2573, 2574  …\n",
       "  \"section_08\" => [2774, 2775, 2776, 2777, 2778, 2779, 2780, 2781, 2782, 2783  …\n",
       "  \"section_09\" => [2724, 2725, 2726, 2727, 2728, 2729, 2730, 2731, 2732, 2733  …\n",
       "  \"section_15\" => [2568, 2569, 2570, 2571, 2572, 2573, 2574, 2575, 2576, 2577  …\n",
       "  \"section_07\" => [2945, 2946, 2947, 2948, 2949, 2950, 2951, 2952, 2953, 2954  …\n",
       "  \"section_11\" => [2680, 2681, 2682, 2683, 2684, 2685, 2686, 2687, 2688, 2689  …"
      ]
     },
     "execution_count": 26,
     "metadata": {},
     "output_type": "execute_result"
    }
   ],
   "source": [
    "pickIn = encuentraespigas(sweps,-5)"
   ]
  },
  {
   "cell_type": "code",
   "execution_count": null,
   "metadata": {},
   "outputs": [],
   "source": [
    "function rasterplot(lespigas)\n",
    "    # hace un rasterplot como diccionario a partir de una lista de espigas.\n",
    "raster = Dict{Any, Any}() #preallocation\n",
    "m = 0\n",
    "while m <= length(s)\n",
    "    # generar nombre de sweep\n",
    "    if m < 10\n",
    "        aux_0 = \"section_0\"\n",
    "    else\n",
    "        aux_0 = \"section_\"\n",
    "    end\n",
    "    aux0 = (string(aux_0,string(m)))\n",
    "    m += 1\n",
    "    #############################################################################################\n",
    "    # what sweeps really have voltage values above the threshold\n",
    "    aux_1 = get(pickIn, aux0, 0)\n",
    "    if aux_1 == 0\n",
    "        continue\n",
    "    end\n",
    "    #############################################################################################\n",
    "    aux1 = parse(Int,replace(aux0, \"section_\" => \"\"))\n",
    "    # obtener el voltaje de ese sweep\n",
    "     ejemplo = s[aux0]; \n",
    "    # obtener los valores que sobrepasan el umbral de ese sweep\n",
    "    selection = pickIn[aux0];\n",
    "    # obtener los valores maximos de voltaje de ese sweep\n",
    "    i = 1\n",
    "    inicio = i\n",
    "    j = 1\n",
    "    for_raster = Dict{Any, Any}() #preallocation\n",
    "    while i < length(selection)\n",
    "        if selection[i + 1] == selection[i] + 1\n",
    "            i += 1\n",
    "        else\n",
    "            fin = i\n",
    "            trazo = selection[inicio:fin]\n",
    "            voltaje = ejemplo[trazo]\n",
    "            aux = findmax(voltaje)\n",
    "            for_raster[j] = trazo[aux[2]]\n",
    "            j += 1\n",
    "            inicio = fin + 1\n",
    "            i += 1\n",
    "        end\n",
    "    end\n",
    "    trazo = selection[inicio:length(selection)]\n",
    "    voltaje = ejemplo[trazo]\n",
    "    aux = findmax(voltaje)\n",
    "    for_raster[j] = trazo[aux[2]];\n",
    "    ############\n",
    "    entry0 = for_raster[1]\n",
    "    for i = 2:length(for_raster)\n",
    "        entry0 = [entry0 for_raster[i]]\n",
    "    end\n",
    "    ############\n",
    "    raster[aux1] = [aux0 entry0] # se almacenan los valores maximos de voltaje registrados por cada sweep\n",
    "end\n",
    "    return raster \n",
    "end"
   ]
  },
  {
   "cell_type": "code",
   "execution_count": null,
   "metadata": {},
   "outputs": [],
   "source": [
    "raster=rasterplot(pickIn)"
   ]
  },
  {
   "cell_type": "code",
   "execution_count": null,
   "metadata": {},
   "outputs": [],
   "source": []
  },
  {
   "cell_type": "code",
   "execution_count": null,
   "metadata": {},
   "outputs": [],
   "source": [
    "import PlotlyJS\n",
    "p=PlotlyJS.plot(s[\"section_16\"], marker_color=\"blue\", line_width=1)\n",
    "show(p)"
   ]
  },
  {
   "cell_type": "code",
   "execution_count": null,
   "metadata": {},
   "outputs": [],
   "source": [
    "plot(ejemplo[2792:3020])"
   ]
  },
  {
   "cell_type": "code",
   "execution_count": null,
   "metadata": {},
   "outputs": [],
   "source": []
  }
 ],
 "metadata": {
  "kernelspec": {
   "display_name": "Julia 1.0.0",
   "language": "julia",
   "name": "julia-1.0"
  },
  "language_info": {
   "file_extension": ".jl",
   "mimetype": "application/julia",
   "name": "julia",
   "version": "1.0.0"
  }
 },
 "nbformat": 4,
 "nbformat_minor": 1
}

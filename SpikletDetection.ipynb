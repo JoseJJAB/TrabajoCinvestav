{
 "cells": [
  {
   "cell_type": "markdown",
   "metadata": {},
   "source": [
    "# Funciones para detección de espiguletas (*spiklets*)\n",
    "\n",
    "Este cuaderno contiene funciones, graficas y pruebas para la detección automática de espiguletas.\n",
    "Empezamos por cargar las bibliotecas necesarias de uso general."
   ]
  },
  {
   "cell_type": "code",
   "execution_count": 5,
   "metadata": {},
   "outputs": [],
   "source": [
    "push!(LOAD_PATH,\".\")\n",
    "using PyPlot, HDF5\n",
    "using Statistics"
   ]
  },
  {
   "cell_type": "code",
   "execution_count": 6,
   "metadata": {},
   "outputs": [],
   "source": [
    "using SacaDatos\n",
    "using Detectores"
   ]
  },
  {
   "cell_type": "code",
   "execution_count": 7,
   "metadata": {},
   "outputs": [
    {
     "data": {
      "text/plain": [
       "\"/home/karel/ABFiles/Bianca/88101248.h5\""
      ]
     },
     "execution_count": 7,
     "metadata": {},
     "output_type": "execute_result"
    }
   ],
   "source": [
    "nomine = \"/home/karel/ABFiles/Bianca/88101248.h5\""
   ]
  },
  {
   "cell_type": "code",
   "execution_count": 8,
   "metadata": {},
   "outputs": [
    {
     "data": {
      "text/plain": [
       "4-element Array{String,1}:\n",
       " \"ch0\"        \n",
       " \"channels\"   \n",
       " \"comment\"    \n",
       " \"description\""
      ]
     },
     "execution_count": 8,
     "metadata": {},
     "output_type": "execute_result"
    }
   ],
   "source": [
    "datos = h5open(nomine, \"r\");\n",
    "names(datos)"
   ]
  },
  {
   "cell_type": "code",
   "execution_count": 9,
   "metadata": {},
   "outputs": [
    {
     "data": {
      "text/plain": [
       "HDF5 data file: /home/karel/ABFiles/Bianca/88101248.h5"
      ]
     },
     "execution_count": 9,
     "metadata": {},
     "output_type": "execute_result"
    }
   ],
   "source": [
    "datos"
   ]
  },
  {
   "cell_type": "code",
   "execution_count": 10,
   "metadata": {},
   "outputs": [
    {
     "name": "stdout",
     "output_type": "stream",
     "text": [
      "la descripcion de tus barridas de datos son las siguientes\n",
      "HDF5.HDF5Compound{3}[HDF5Compound{3}((0.384, \"ms\", \"mV\"), (\"dt\", \"xunits\", \"yunits\"), (Float64, String, String))]\n",
      "la frequencia de muestreo es 2.6041666666666665 kHz.\n"
     ]
    }
   ],
   "source": [
    "constantes, sweps = devuelvedatos(datos, \"ch0\");\n",
    "const freq=1/constantes[1];\n",
    "println(\"la frequencia de muestreo es \", freq, \" kHz.\" )"
   ]
  },
  {
   "cell_type": "code",
   "execution_count": null,
   "metadata": {},
   "outputs": [],
   "source": [
    "const prevGms=10\n",
    "const postGms=40\n",
    "const preG=round(Int, prevGms*freq)\n",
    "const posG=round(Int, postGms*freq)"
   ]
  },
  {
   "cell_type": "code",
   "execution_count": null,
   "metadata": {},
   "outputs": [],
   "source": [
    "preG"
   ]
  },
  {
   "cell_type": "markdown",
   "metadata": {},
   "source": [
    "# A partir de aquí viene la numérica sucia: vamos a cargar todos los intervalos de un segundo que a ojo de buen cubero tienen una espiguelta."
   ]
  },
  {
   "cell_type": "code",
   "execution_count": null,
   "metadata": {
    "collapsed": true
   },
   "outputs": [],
   "source": [
    "sospechosas=[14,16,18,24,28,30,41,44]\n",
    "ksuspect=[]\n",
    "subs=\"section_\"\n",
    "for s in sospechosas\n",
    "    aux=subs*\"$s\"\n",
    "    push!(ksuspect, aux)\n",
    "end\n",
    "push!(ksuspect, \"section_01\")\n",
    "push!(ksuspect, \"section_02\")\n",
    "push!(ksuspect, \"section_46\")\n",
    "push!(ksuspect, \"section_47\")\n",
    "todas=keys(sweps);"
   ]
  },
  {
   "cell_type": "code",
   "execution_count": null,
   "metadata": {
    "collapsed": true
   },
   "outputs": [],
   "source": [
    "suaves=Dict{String, Array}()\n",
    "derivadas=Dict{String, Array}()\n",
    "for subs in todas # aqui estaba ksuspect que era la prueba de las conocidas\n",
    "    suaves[subs]=suavegauss(sweps[subs])\n",
    "    derivadas[subs]=derivadadt(suaves[subs])\n",
    "    \n",
    "end\n"
   ]
  },
  {
   "cell_type": "code",
   "execution_count": null,
   "metadata": {},
   "outputs": [],
   "source": [
    "normCut"
   ]
  },
  {
   "cell_type": "code",
   "execution_count": null,
   "metadata": {},
   "outputs": [],
   "source": [
    "figura=figure(figsize=(10,5))\n",
    "for subs in keys(suaves)\n",
    "    lala=length(suaves[subs])\n",
    "rangot=iart(1, lala)  \n",
    " plot(rangot,suaves[subs], label=subs, lw=0.4)\n",
    "end\n",
    "\n",
    "xlabel(\"tiempo [ms]\")\n",
    "ylabel(\"Voltaje [mV]\")\n",
    "#legend()\n",
    "grid()"
   ]
  },
  {
   "cell_type": "code",
   "execution_count": null,
   "metadata": {},
   "outputs": [],
   "source": [
    "figura=figure(figsize=(10,5))\n",
    "#ylim(-0.02, 0.5)\n",
    "for subs in keys(derivadas)\n",
    "lala=length(derivadas[subs])\n",
    "rangot=iart(1, lala)    \n",
    " plot(rangot,derivadas[subs], label=subs, lw=0.7)\n",
    "end\n",
    "xlabel(\"tiempo [ms]\")\n",
    "ylabel(\"Derivada [V/s]\")\n",
    "#legend()\n",
    "grid()"
   ]
  },
  {
   "cell_type": "code",
   "execution_count": null,
   "metadata": {},
   "outputs": [],
   "source": [
    "intSS=Dict{String,Dict}()  #intSS es subintervalo del intervalo\n",
    "for subs in keys(derivadas)\n",
    "    println(subs)\n",
    " intSS[subs]=intervalosP(derivadas[subs], 0.06*freq, 0.4*freq)\n",
    "end"
   ]
  },
  {
   "cell_type": "code",
   "execution_count": null,
   "metadata": {},
   "outputs": [],
   "source": [
    "intSS"
   ]
  },
  {
   "cell_type": "code",
   "execution_count": null,
   "metadata": {},
   "outputs": [],
   "source": [
    "figura=figure(figsize=(10,5))\n",
    "\n",
    "# Primero buscamos la lista de los intervalos ejemplo\n",
    "for subs in keys(intSS)\n",
    "    # en cada intervalo ejemplo puede haber varios subintervalos sospechosos\n",
    "    for j in keys(intSS[subs])\n",
    "        # tomamos el rango de cada subintervalo sospechoso\n",
    "        # es mejor dibujar con rangos que con listas de numeros\n",
    "        rango=intSS[subs][j]\n",
    "        ll=length(rango)\n",
    "        rangot=iart(1,ll)\n",
    "        plot(rangot,suaves[subs][rango], label=subs)\n",
    "    end\n",
    "end\n",
    "\n",
    "\n",
    "xlabel(\"tiempo [ms]\")\n",
    "ylabel(\"Voltaje [mV]\")\n",
    "legend()"
   ]
  },
  {
   "cell_type": "code",
   "execution_count": null,
   "metadata": {},
   "outputs": [],
   "source": [
    "figura=figure(figsize=(10,5))\n",
    "xlim(13000,14000)\n",
    "#ylim(-0.02,0.1)\n",
    "  #rango=intSS[subs][1]\n",
    "plot(derivadas[\"section_50\"])\n",
    "#plot(suaves[\"section_50\"])"
   ]
  },
  {
   "cell_type": "code",
   "execution_count": null,
   "metadata": {},
   "outputs": [],
   "source": [
    "figura=figure(figsize=(10,5))\n",
    "\n",
    "# Primero buscamos la lista de los intervalos ejemplo\n",
    "for subs in keys(intSS)\n",
    "    # en cada intervalo ejemplo puede haber varios subintervalos sospechosos\n",
    "    for j in keys(intSS[subs])\n",
    "        # tomamos el rango de cada subintervalo sospechoso\n",
    "        # es mejor dibujar con rangos que con listas de numeros\n",
    "        rango=intSS[subs][j]\n",
    "        ll=length(rango)\n",
    "        rangot=iart(1,ll)\n",
    "        plot(rangot,derivadas[subs][rango], label=subs)\n",
    "        hlines(0, 0, 50,lw=2)\n",
    "    end\n",
    "end\n",
    "\n",
    "\n",
    "xlabel(\"tiempo [ms]\")\n",
    "ylabel(\"Voltaje [mV]\")\n",
    "grid()\n",
    "legend()"
   ]
  },
  {
   "cell_type": "code",
   "execution_count": null,
   "metadata": {
    "collapsed": true
   },
   "outputs": [],
   "source": [
    "(limpia, mocha)=separamochas(intSS);"
   ]
  },
  {
   "cell_type": "code",
   "execution_count": null,
   "metadata": {
    "collapsed": true
   },
   "outputs": [],
   "source": [
    "ddt=Dict{String, Array}()\n",
    "for subs in todas # aqui estaba ksuspect que era la prueba de las conocidas\n",
    "    ddt[subs]=derivadadt(derivadas[subs])    \n",
    "end"
   ]
  },
  {
   "cell_type": "code",
   "execution_count": null,
   "metadata": {},
   "outputs": [],
   "source": [
    "figura=figure(figsize=(10,5))\n",
    "\n",
    "title(\"Segundas Derivadas\")\n",
    "\n",
    "xlim(5,15)\n",
    "# Primero buscamos la lista de los intervalos ejemplo\n",
    "for subs in keys(intSS)\n",
    "    # en cada intervalo ejemplo puede haber varios subintervalos sospechosos\n",
    "    for j in keys(intSS[subs])\n",
    "        # tomamos el rango de cada subintervalo sospechoso\n",
    "        # es mejor dibujar con rangos que con listas de numeros\n",
    "        rango=intSS[subs][j]\n",
    "        ll=length(rango)\n",
    "        rangot=iart(1,ll)\n",
    "        plot(rangot,ddt[subs][rango], label=subs)\n",
    "        hlines(0, 0, 50,lw=2)\n",
    "    end\n",
    "end\n",
    "\n",
    "\n",
    "xlabel(\"tiempo [ms]\")\n",
    "ylabel(\"Voltaje [mV]\")\n",
    "grid()\n",
    "#legend()"
   ]
  },
  {
   "cell_type": "code",
   "execution_count": null,
   "metadata": {
    "collapsed": true
   },
   "outputs": [],
   "source": [
    "promSpk=average1(limpia, suaves); # de ahora en adelante asi se sacan promedios sobre intervalos!\n"
   ]
  },
  {
   "cell_type": "code",
   "execution_count": null,
   "metadata": {},
   "outputs": [],
   "source": [
    "function normCut(datossuave, intervaloslimpios, intervalossospechos)\n",
    "\n",
    "    a=average1(intervaloslimpios, datossuave) # de ahora en adelante asi se sacan promedios sobre intervalos!\n",
    "    offset=a[1]\n",
    "    result=Dict{String,Dict}()\n",
    "    \n",
    "   for subs in keys(intervaloslimpios)\n",
    "    result[subs]=Dict{Int, Array}()\n",
    "    for j in keys(intervaloslimpios[subs])\n",
    "         arre=intervalossospechos[subs][j]\n",
    "        # es mejor dibujar con rangos que con listas de numeros\n",
    "        rango=arre[1]:arre[end]\n",
    "        #normCut[subs][j]=suaves[subs][rango].-(suaves[subs][rango][1]-a[1])\n",
    "        result[subs][j]=g0(datossuave[subs][rango],a[1]) # g0 es la funcion que empareja el punto de inicio\n",
    "   \n",
    "    end\n",
    "        \n",
    "    end\n",
    "    return result\n",
    "end"
   ]
  },
  {
   "cell_type": "code",
   "execution_count": null,
   "metadata": {},
   "outputs": [],
   "source": [
    "normalized=normCut(suaves, limpia, intSS)"
   ]
  },
  {
   "cell_type": "code",
   "execution_count": null,
   "metadata": {
    "collapsed": true
   },
   "outputs": [],
   "source": [
    "derivadalimpia=Dict{String, Dict{Int64, Array}}()\n",
    "for k in keys(normalized)\n",
    "    derivadalimpia[k]=Dict{Int64,Array}()\n",
    "    for j in keys(normalized[k])\n",
    "        derivadalimpia[k][j]=derivadadt(normalized[k][j])\n",
    "    end\n",
    "end"
   ]
  },
  {
   "cell_type": "code",
   "execution_count": null,
   "metadata": {},
   "outputs": [],
   "source": [
    "figura=figure(figsize=(10,5))\n",
    "rangot=0\n",
    "title(\"Espiguletas centradas en la maxima taza de cambio\")\n",
    "# Primero buscamos la lista de los intervalos ejemplo\n",
    "for subs in keys(normalized)\n",
    "    # en cada intervalo ejemplo puede haber varios subintervalos sospechosos\n",
    "    for j in keys(normalized[subs])\n",
    "           rango=intSS[subs][j]\n",
    "        ll=length(rango)\n",
    "        rangot=iart(1,ll)\n",
    "        # tomamos el rango de cada subintervalo sospechoso\n",
    "        # es mejor dibujar con rangos que con listas de numeros\n",
    "        plot(rangot,normalized[subs][j])\n",
    "    end\n",
    "end\n",
    "\n",
    " xlabel(\"ms\")\n",
    "grid()\n",
    "#plot(a, lw=3)"
   ]
  },
  {
   "cell_type": "markdown",
   "metadata": {},
   "source": [
    "**NOTA para avanzar**\n",
    "\n",
    "En la grafica superior, la linea gruesa es el promedio. Nos interesa calcular el tiempo que le lleva levantarse desde\n",
    "el cambio en la curvatura (suave a muy empinado) hasta el máximo punto de la funcion."
   ]
  },
  {
   "cell_type": "code",
   "execution_count": null,
   "metadata": {},
   "outputs": [],
   "source": [
    "\n",
    "figura=figure(figsize=(10,5))\n",
    "\n",
    "# Primero buscamos la lista de los intervalos ejemplo\n",
    "for subs in keys(limpia)\n",
    "    # en cada intervalo ejemplo puede haber varios subintervalos sospechosos\n",
    "    for j in keys(limpia[subs])\n",
    "        # tomamos el rango de cada subintervalo sospechoso\n",
    "        arre=limpia[subs][j]\n",
    "        # es mejor dibujar con rangos que con listas de numeros\n",
    "        rango=arre[1]:arre[end]\n",
    "        plot(suaves[subs][rango].-(suaves[subs][rango][1]-a[1]), derivadas[subs][rango], lw=0.5)\n",
    "    end\n",
    "end\n",
    "#plot(promSpK[2:end],difProm, lw=5, c=\"red\")"
   ]
  },
  {
   "cell_type": "code",
   "execution_count": null,
   "metadata": {
    "collapsed": true
   },
   "outputs": [],
   "source": [
    "difProm=derivadadt(promSpk)\n",
    "ddprom=derivadadt(difProm);"
   ]
  },
  {
   "cell_type": "code",
   "execution_count": null,
   "metadata": {},
   "outputs": [],
   "source": [
    "riset=risetime(difProm)"
   ]
  },
  {
   "cell_type": "code",
   "execution_count": null,
   "metadata": {},
   "outputs": [],
   "source": [
    "#plot(promSpK)\n",
    "figure(figsize=(12,10))\n",
    "title(\"Comparacion datos derivada y dderivada\")\n",
    "ylim(-0.2,0.2)\n",
    "plot(rangot,difProm)\n",
    "plot(rangot,ddprom*0.05)\n",
    "plot(rangot,promSpk.+70)\n",
    "axvline(x=riset[1]/freq, c=\"black\")\n",
    "axvline(x=riset[2]/freq, c=\"black\")\n",
    "\n",
    "grid()"
   ]
  },
  {
   "cell_type": "markdown",
   "metadata": {},
   "source": [
    "# Usaremos LsqFit y una funcion perrona para hacer ajuste por cachos"
   ]
  },
  {
   "cell_type": "code",
   "execution_count": null,
   "metadata": {
    "scrolled": true
   },
   "outputs": [],
   "source": [
    "using LsqFit"
   ]
  },
  {
   "cell_type": "markdown",
   "metadata": {},
   "source": [
    "### Vamos a arreglar esto para que las xzeros no necesiten los bordes... a no se yo creo si los vamos a tener que poner de todas formas"
   ]
  },
  {
   "cell_type": "code",
   "execution_count": null,
   "metadata": {},
   "outputs": [],
   "source": [
    "function lpp(x, xzeros, yzeros, xini, xfin) \n",
    "\n",
    "    \n",
    "    ll=length(xzeros)+1\n",
    "    \n",
    "    if ll!=length(yzeros)-1\n",
    "        error(\"tu particion no contiene tantos parametros como necesitas \\n\n",
    "            Te puede faltar un y o te sobra un x\")\n",
    "    end\n",
    "    if (x<=xini || x>=xfin)\n",
    "        error(\"x fuera del dominio\")\n",
    "    end\n",
    "    \n",
    "     # las m son las pendientes\n",
    "    mzeros=zeros(ll)\n",
    "    kzeros=zeros(ll)\n",
    "    xaux=vcat(xini, xzeros, xfin)   \n",
    "    #println(xaux)\n",
    "    \n",
    "    for k=1:ll\n",
    "        mzeros[k]=(yzeros[k+1]-yzeros[k])/(xaux[k+1]-xaux[k])\n",
    "        kzeros[k]=yzeros[k]-mzeros[k]*xaux[k]\n",
    "    end\n",
    "    \n",
    "    y=0\n",
    "    \n",
    "    for k=1:ll\n",
    "        if xaux[k] <= x < xaux[k+1]\n",
    "     #       println(xaux[k], \" \", x, \" \", xaux[k+1])\n",
    "         y = mzeros[k]*x+kzeros[k]\n",
    "        elseif  x==xfin\n",
    "                y=yzero[end]\n",
    "        \n",
    "        end\n",
    "    end\n",
    "    \n",
    "    return y\n",
    "\n",
    "end"
   ]
  },
  {
   "cell_type": "code",
   "execution_count": null,
   "metadata": {},
   "outputs": [],
   "source": [
    "plot(rangot[280:end],difProm[280:end])\n",
    "xlabel(\"ms\")\n",
    "ylabel(\"Derivada [mV/ms]\")\n",
    "axhline([0], c=\"black\")\n",
    "axvline(10, c=\"black\")\n",
    "axvline(12, c=\"black\")\n",
    "axvline(13, c=\"black\")\n",
    "title(\"inspiracion\")\n",
    "grid()\n"
   ]
  },
  {
   "cell_type": "markdown",
   "metadata": {},
   "source": [
    "# AHORA si es en serio:"
   ]
  },
  {
   "cell_type": "code",
   "execution_count": null,
   "metadata": {},
   "outputs": [],
   "source": [
    "ip=round(Int, 10*freq)\n",
    "ic=findfirst(x->x<0, difProm[250:end])+ip"
   ]
  },
  {
   "cell_type": "code",
   "execution_count": null,
   "metadata": {
    "collapsed": true
   },
   "outputs": [],
   "source": [
    "yyforfit=difProm[ic:end]\n",
    "xxfofit=rangot[ic:end];"
   ]
  },
  {
   "cell_type": "code",
   "execution_count": null,
   "metadata": {},
   "outputs": [],
   "source": [
    "xxfofit"
   ]
  },
  {
   "cell_type": "code",
   "execution_count": null,
   "metadata": {},
   "outputs": [],
   "source": [
    "xzeros5=[12,13,15.5]\n",
    "yzeros5=[-0.0001, -0.4,-0.25, -0.05,-0.0001];\n"
   ]
  },
  {
   "cell_type": "code",
   "execution_count": null,
   "metadata": {},
   "outputs": [],
   "source": [
    "xi=xxfofit[1]\n",
    "xf=xxfofit[end]\n",
    "model5(x,p)=map(xr->lpp(xr, p[1:3], p[4:8], xi, xf),x)"
   ]
  },
  {
   "cell_type": "code",
   "execution_count": null,
   "metadata": {},
   "outputs": [],
   "source": [
    "p_0_5=vcat(xzeros5,yzeros5)"
   ]
  },
  {
   "cell_type": "code",
   "execution_count": null,
   "metadata": {
    "collapsed": true
   },
   "outputs": [],
   "source": [
    "yys5=map(x->lpp(x, xzeros5, yzeros5,xi,xf), xxfofit[2:end-1]);"
   ]
  },
  {
   "cell_type": "code",
   "execution_count": null,
   "metadata": {
    "collapsed": true
   },
   "outputs": [],
   "source": [
    "fit5 = curve_fit(model5, xxfofit[2:end-1], yyforfit[2:end-1], p_0_5);"
   ]
  },
  {
   "cell_type": "code",
   "execution_count": null,
   "metadata": {},
   "outputs": [],
   "source": [
    "pp5=fit5.param"
   ]
  },
  {
   "cell_type": "code",
   "execution_count": null,
   "metadata": {
    "collapsed": true
   },
   "outputs": [],
   "source": [
    "yyfit5=model5(xxfofit[2:end-1],pp5);"
   ]
  },
  {
   "cell_type": "markdown",
   "metadata": {},
   "source": [
    "Vamos a sacar nuestro $r^2$\n"
   ]
  },
  {
   "cell_type": "code",
   "execution_count": null,
   "metadata": {},
   "outputs": [],
   "source": [
    "sstot=sum((yyforfit.-mean(yyforfit)).^2)\n",
    "ssreg=sum((yyfit5.-mean(yyforfit)).^2)\n",
    "rquad5=1-ssreg/sstot"
   ]
  },
  {
   "cell_type": "code",
   "execution_count": null,
   "metadata": {},
   "outputs": [],
   "source": [
    "xzeros4=[12,15.5]\n",
    "yzeros4=[-0.001,-0.45, -0.05,-0.001]\n",
    "p_0_4=vcat(xzeros4,yzeros4)\n",
    "xi=xxfofit[1]\n",
    "xf=xxfofit[end]\n",
    "model4(x,p)=map(xr->lpp(xr, p[1:2], p[3:6], xi, xf),x)"
   ]
  },
  {
   "cell_type": "code",
   "execution_count": null,
   "metadata": {},
   "outputs": [],
   "source": [
    "fit4 = curve_fit(model4, xxfofit[2:end-1], yyforfit[2:end-1], p_0_4)"
   ]
  },
  {
   "cell_type": "code",
   "execution_count": null,
   "metadata": {},
   "outputs": [],
   "source": [
    "typeof(fit4)"
   ]
  },
  {
   "cell_type": "code",
   "execution_count": null,
   "metadata": {
    "collapsed": true
   },
   "outputs": [],
   "source": [
    "pp4=fit4.param;\n",
    "yyfit4=model4(xxfofit[2:end-1],pp4);"
   ]
  },
  {
   "cell_type": "markdown",
   "metadata": {},
   "source": [
    "### Hasta aqui fue con el promedio:\n",
    "Ahora hay que hacerlo para cada una de las diferentes derivadas.\n"
   ]
  },
  {
   "cell_type": "code",
   "execution_count": null,
   "metadata": {},
   "outputs": [],
   "source": [
    "ip=round(Int, 10*freq)\n",
    "ic=findfirst(x->x<0, difProm[250:end])+ip\n",
    "\n",
    "dictfits=Dict{String,Dict{Int64, Any}}()\n",
    "\n",
    "# Primero buscamos la lista de los intervalos ejemplo\n",
    "@time for k in keys(derivadalimpia)\n",
    "    dictfits[k]=Dict{Int64, Any}()\n",
    "    for j in keys(derivadalimpia[k])\n",
    "        aux=derivadalimpia[k][j]\n",
    "        #el punto donde comienza el ajuste\n",
    "        ic=findfirst(x->x<0, aux[250:end])+ip\n",
    "        yyforfit=aux[ic:end]\n",
    "        xxfofit=rangot[ic:end];\n",
    "        xi=xxfofit[1]\n",
    "        xf=xxfofit[end]\n",
    "        model4(x,p)=map(xr->lpp(xr, p[1:2], p[3:6], xi, xf),x)\n",
    "        dictfits[k][j]=curve_fit(model4, xxfofit[2:end-1], yyforfit[2:end-1], p_0_4)\n",
    "    end\n",
    "end\n"
   ]
  },
  {
   "cell_type": "code",
   "execution_count": null,
   "metadata": {},
   "outputs": [],
   "source": [
    "for k in keys(dictfits)\n",
    "    for j in keys(dictfits[k])\n",
    "        aux=dictfits[k][j]\n",
    "        ppp=aux.param;\n",
    "        println(ppp)\n",
    "        yyfit4=model4(xxfofit[2:end-1],ppp);\n",
    "        plot(xxfofit[2:end-1], yyfit4)\n",
    "    end\n",
    "end"
   ]
  },
  {
   "cell_type": "code",
   "execution_count": null,
   "metadata": {},
   "outputs": [],
   "source": [
    "yyfit4[1:10]"
   ]
  },
  {
   "cell_type": "code",
   "execution_count": null,
   "metadata": {
    "collapsed": true
   },
   "outputs": [],
   "source": [
    "yys4=map(x->lpp(x, xzeros4, yzeros4,xi,xf), xxfofit[2:end-1]);"
   ]
  },
  {
   "cell_type": "code",
   "execution_count": null,
   "metadata": {},
   "outputs": [],
   "source": [
    "plot(rangot[278:end],difProm[278:end])\n",
    "plot(xxfofit[2:end-1], yyfit5)\n",
    "plot(xxfofit[2:end-1], yyfit4)\n"
   ]
  },
  {
   "cell_type": "code",
   "execution_count": null,
   "metadata": {},
   "outputs": [],
   "source": [
    "sstot=sum((yyforfit.-mean(yyforfit)).^2)\n",
    "ssreg=sum((yyfit4.-mean(yyforfit)).^2)\n",
    "rquad4=1-ssreg/sstot"
   ]
  },
  {
   "cell_type": "code",
   "execution_count": null,
   "metadata": {},
   "outputs": [],
   "source": [
    "paso=1/freq\n",
    "tts=0:paso:50"
   ]
  },
  {
   "cell_type": "code",
   "execution_count": null,
   "metadata": {},
   "outputs": [],
   "source": [
    "freq"
   ]
  },
  {
   "cell_type": "code",
   "execution_count": null,
   "metadata": {},
   "outputs": [],
   "source": [
    "np=pyimport(\"numpy\")"
   ]
  },
  {
   "cell_type": "code",
   "execution_count": null,
   "metadata": {},
   "outputs": [],
   "source": [
    "piezas=np[:piecewise]\n",
    "piezas"
   ]
  },
  {
   "cell_type": "markdown",
   "metadata": {},
   "source": [
    "## A partir de aquí estamos guardando datos"
   ]
  },
  {
   "cell_type": "code",
   "execution_count": null,
   "metadata": {
    "collapsed": true
   },
   "outputs": [],
   "source": [
    "using DelimitedFiles"
   ]
  },
  {
   "cell_type": "code",
   "execution_count": null,
   "metadata": {
    "collapsed": true
   },
   "outputs": [],
   "source": [
    "datos=hcat(promSpK[2:end],difProm)"
   ]
  },
  {
   "cell_type": "code",
   "execution_count": null,
   "metadata": {
    "collapsed": true
   },
   "outputs": [],
   "source": [
    "writedlm(\"../h5files/masterspikelet.dat\", datos)"
   ]
  },
  {
   "cell_type": "code",
   "execution_count": null,
   "metadata": {
    "collapsed": true
   },
   "outputs": [],
   "source": [
    "nota=\"Esta espiguleta es el promedio de todas las detectadas automaticamente con el experimento  \"*nomine"
   ]
  },
  {
   "cell_type": "code",
   "execution_count": null,
   "metadata": {
    "collapsed": true
   },
   "outputs": [],
   "source": [
    "h5open(\"../h5files/masterspiklet.h5\", \"w\") do file\n",
    "   write(file, \"voltaje\", promSpK[2:end])  # alternatively, say \"@write file A\"\n",
    "    write(file, \"derivative\", difProm)  # alternatively, say \"@write file A\"\n",
    "    write(file, \"nota\", nota)  # alternatively, say \"@write file A\"\n",
    "end\n"
   ]
  },
  {
   "cell_type": "code",
   "execution_count": null,
   "metadata": {
    "collapsed": true
   },
   "outputs": [],
   "source": [
    "\n",
    "test = h5open(\"../h5files/masterspiklet.h5\", \"r\");\n",
    "names(test)"
   ]
  },
  {
   "cell_type": "code",
   "execution_count": null,
   "metadata": {
    "collapsed": true
   },
   "outputs": [],
   "source": [
    "#using HDF5"
   ]
  },
  {
   "cell_type": "code",
   "execution_count": null,
   "metadata": {
    "collapsed": true
   },
   "outputs": [],
   "source": []
  }
 ],
 "metadata": {
  "@webio": {
   "lastCommId": null,
   "lastKernelId": null
  },
  "kernelspec": {
   "display_name": "Julia 1.0.3",
   "language": "julia",
   "name": "julia-1.0"
  },
  "language_info": {
   "file_extension": ".jl",
   "mimetype": "application/julia",
   "name": "julia",
   "version": "1.0.3"
  }
 },
 "nbformat": 4,
 "nbformat_minor": 2
}

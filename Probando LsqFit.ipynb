{
 "cells": [
  {
   "cell_type": "markdown",
   "metadata": {},
   "source": [
    "Vamos a probar el LsqFit con la funcion ficticia del otro cuaderno, que vagamente se parece\n",
    "a la derivada del spiklet linearizada por piezas."
   ]
  },
  {
   "cell_type": "code",
   "execution_count": 91,
   "metadata": {},
   "outputs": [],
   "source": [
    "using LsqFit, PyPlot"
   ]
  },
  {
   "cell_type": "markdown",
   "metadata": {},
   "source": [
    "Esta es la funcion linearizada por piezas. x es la variable libre, el resto son parametros acorde a lo siguiente:\n",
    "xini=principio del dominio\n",
    "xfin=fin del dominio.\n",
    "xzeros=los puntos de quiebre internos\n",
    "yzeros=las alturas de los puntos de quiebre internos y externo.\n",
    "mzeronuno=la altura del primer punto del dominio"
   ]
  },
  {
   "cell_type": "code",
   "execution_count": 66,
   "metadata": {},
   "outputs": [
    {
     "data": {
      "text/plain": [
       "lpp (generic function with 1 method)"
      ]
     },
     "execution_count": 66,
     "metadata": {},
     "output_type": "execute_result"
    }
   ],
   "source": [
    "function lpp(x, xini, xfin, xzeros, yzeros, mzerouno)\n",
    "    y=0\n",
    "    \n",
    "    ll=length(xzeros)+1\n",
    "    \n",
    "    #if ll!=length(yzeros)\n",
    "     #   error(\"tu particion no contiene tantos parametros como necesitas\")\n",
    "    if (x<xini || x>=xfin)\n",
    "        error(\"x fuera del dominio\")\n",
    "    end\n",
    "    \n",
    "    mzeros=zeros(ll)\n",
    "    mzeros[1]=mzerouno\n",
    "    xaux=vcat(xini, xzeros, xfin)   \n",
    "   # println(xaux)\n",
    "    \n",
    "    for k=2:ll\n",
    "        \n",
    "        mzeros[k]=(yzeros[k-1]-yzeros[k])*xaux[k]+mzeros[k-1]\n",
    "    end\n",
    "    \n",
    "\n",
    "    \n",
    "    for k=1:(ll-1)\n",
    "        if xaux[k] <= x < xaux[k+1]\n",
    "          #  println(xaux[k], \" \", x, \" \", xaux[k+1])\n",
    "         y = yzeros[k]*x+mzeros[k]\n",
    "        end\n",
    "    end\n",
    "    \n",
    "    return y\n",
    "\n",
    "end"
   ]
  },
  {
   "cell_type": "markdown",
   "metadata": {},
   "source": [
    "Un posible ejemplo, ranguilllo es el dominio y el resto son parametros."
   ]
  },
  {
   "cell_type": "code",
   "execution_count": 67,
   "metadata": {},
   "outputs": [
    {
     "data": {
      "text/plain": [
       "10"
      ]
     },
     "execution_count": 67,
     "metadata": {},
     "output_type": "execute_result"
    }
   ],
   "source": [
    "ranguilllo=0.01:0.1:9.99\n",
    "xzeros2=[3,4,5]\n",
    "yzeros2=[-5, 5, 0.8, 0.1]\n",
    "mzero2=10"
   ]
  },
  {
   "cell_type": "markdown",
   "metadata": {},
   "source": [
    "Datos ficticios. las yys, son datos ruidosos y las oyy los datos \"perfectos\""
   ]
  },
  {
   "cell_type": "code",
   "execution_count": 92,
   "metadata": {},
   "outputs": [],
   "source": [
    "yys=map(x->lpp(x, 0,10, xzeros2, yzeros2, mzero2), ranguilllo).+1.5*randn(length(ranguilllo));\n",
    "oyy=map(x->lpp(x, 0,10, xzeros2, yzeros2, mzero2), ranguilllo);"
   ]
  },
  {
   "cell_type": "code",
   "execution_count": 93,
   "metadata": {},
   "outputs": [
    {
     "data": {
      "image/png": "[encoded data removed]",
      "text/plain": [
       "Figure(PyObject <Figure size 640x480 with 1 Axes>)"
      ]
     },
     "metadata": {},
     "output_type": "display_data"
    },
    {
     "data": {
      "text/plain": [
       "1-element Array{PyCall.PyObject,1}:\n",
       " PyObject <matplotlib.lines.Line2D object at 0x7f3a99e1b438>"
      ]
     },
     "execution_count": 93,
     "metadata": {},
     "output_type": "execute_result"
    }
   ],
   "source": [
    "scatter(ranguilllo,yys, s=0.75, c=\"black\")\n",
    "plot(ranguilllo, oyy, c=\"purple\")"
   ]
  },
  {
   "cell_type": "markdown",
   "metadata": {},
   "source": [
    "No estoy muy seguro, pero en los ejemplos de LsqFit usan funciones \"vectorizadas\", asi que la vectorizamos de la siguiente forma. Notese la diferencia con vectorizacion \"magica\" usando @. No funciona la ultima en este caso."
   ]
  },
  {
   "cell_type": "code",
   "execution_count": 94,
   "metadata": {},
   "outputs": [
    {
     "data": {
      "text/plain": [
       "model3 (generic function with 1 method)"
      ]
     },
     "execution_count": 94,
     "metadata": {},
     "output_type": "execute_result"
    }
   ],
   "source": [
    "xi=0.0\n",
    "xf=10\n",
    "model3(x,p)=map(xr->lpp(xr, xi,xf, p[1:3], p[4:7], p[8]),x)"
   ]
  },
  {
   "cell_type": "markdown",
   "metadata": {},
   "source": [
    "Solo para tener una idea, hacemos unos valores ooy usando el modelo con los valores iniciales pintento de los parametros que vamos a intentar."
   ]
  },
  {
   "cell_type": "code",
   "execution_count": 96,
   "metadata": {},
   "outputs": [],
   "source": [
    "pintento=[3,4,5,-5, 5, 0.8, 0.1,10];"
   ]
  },
  {
   "cell_type": "code",
   "execution_count": 97,
   "metadata": {},
   "outputs": [],
   "source": [
    "ooy=model3(ranguilllo,pintento);"
   ]
  },
  {
   "cell_type": "markdown",
   "metadata": {},
   "source": [
    "Aqui es donde se aplica la adaptacion usando LsqFit, notese el orden de los parametros."
   ]
  },
  {
   "cell_type": "code",
   "execution_count": 84,
   "metadata": {},
   "outputs": [
    {
     "data": {
      "text/plain": [
       "LsqFit.LsqFitResult{Array{Float64,1},Array{Float64,1},Array{Float64,2},Array{Float64,1}}([3.00037, 4.21001, 5.0, -4.73477, 4.57013, -0.786406, 0.1, 9.52166], [-0.150774, 1.477, -0.227928, -1.23432, -0.0696886, 0.00123922, 0.534815, -0.828162, -0.286605, 1.6766  …  1.12408, -2.80018, 0.64327, -0.00173569, -0.86882, -0.154482, 0.362739, -0.683636, -1.73891, 1.2079], [0.0 0.0 … 0.0 1.0; 0.0 0.0 … 0.0 1.0; … ; 0.0 0.0 … 0.0 0.0; 0.0 0.0 … 0.0 0.0], true, Float64[])"
      ]
     },
     "execution_count": 84,
     "metadata": {},
     "output_type": "execute_result"
    }
   ],
   "source": [
    "fit3 = curve_fit(model3, ranguilllo, yys, pintento)"
   ]
  },
  {
   "cell_type": "markdown",
   "metadata": {},
   "source": [
    "Aqui estan los parametros encontrados"
   ]
  },
  {
   "cell_type": "code",
   "execution_count": 100,
   "metadata": {},
   "outputs": [
    {
     "data": {
      "text/plain": [
       "8-element Array{Float64,1}:\n",
       "  3.0003744302728843\n",
       "  4.210005618049525 \n",
       "  5.0               \n",
       " -4.734769993999135 \n",
       "  4.57013154163964  \n",
       " -0.7864055686456297\n",
       "  0.1               \n",
       "  9.521663797353554 "
      ]
     },
     "execution_count": 100,
     "metadata": {},
     "output_type": "execute_result"
    }
   ],
   "source": [
    "pp=fit3.param"
   ]
  },
  {
   "cell_type": "markdown",
   "metadata": {},
   "source": [
    "Probablemente hay una manera mas simple de ver esto, pero hagamos ahora la funcion lpp con los parametros descubiertos."
   ]
  },
  {
   "cell_type": "code",
   "execution_count": 87,
   "metadata": {},
   "outputs": [
    {
     "data": {
      "text/plain": [
       "modelfitted (generic function with 1 method)"
      ]
     },
     "execution_count": 87,
     "metadata": {},
     "output_type": "execute_result"
    }
   ],
   "source": [
    "modelfitted(x)=map(xr->lpp(xr, xi,xf, pp[1:3], pp[4:7], pp[8]),x)"
   ]
  },
  {
   "cell_type": "markdown",
   "metadata": {},
   "source": [
    "Y calculamos las alturas con esa funcion."
   ]
  },
  {
   "cell_type": "code",
   "execution_count": 101,
   "metadata": {},
   "outputs": [],
   "source": [
    "yfit=modelfitted(ranguilllo);"
   ]
  },
  {
   "cell_type": "markdown",
   "metadata": {},
   "source": [
    "Aqui comparamos la encontrada con la original.\n",
    "Yeah!! BITCHES!!"
   ]
  },
  {
   "cell_type": "code",
   "execution_count": 103,
   "metadata": {},
   "outputs": [
    {
     "data": {
      "image/png": "[encoded data removed]",
      "text/plain": [
       "Figure(PyObject <Figure size 640x480 with 1 Axes>)"
      ]
     },
     "metadata": {},
     "output_type": "display_data"
    },
    {
     "data": {
      "text/plain": [
       "1-element Array{PyCall.PyObject,1}:\n",
       " PyObject <matplotlib.lines.Line2D object at 0x7f3a99bc6cc0>"
      ]
     },
     "execution_count": 103,
     "metadata": {},
     "output_type": "execute_result"
    }
   ],
   "source": [
    "scatter(ranguilllo,yys, s=0.75, c=\"black\")\n",
    "plot(ranguilllo, oyy, c=\"purple\")\n",
    "plot(ranguilllo,yfit, c=\"red\")"
   ]
  },
  {
   "cell_type": "code",
   "execution_count": null,
   "metadata": {
    "collapsed": true
   },
   "outputs": [],
   "source": []
  }
 ],
 "metadata": {
  "@webio": {
   "lastCommId": "3B63F5BF28D94D01A26C3FC8A41D61ED",
   "lastKernelId": "3707e0fd-b14a-41a8-b752-557d6da7b18d"
  },
  "kernelspec": {
   "display_name": "Julia 1.0.3",
   "language": "julia",
   "name": "julia-1.0"
  },
  "language_info": {
   "file_extension": ".jl",
   "mimetype": "application/julia",
   "name": "julia",
   "version": "1.0.3"
  }
 },
 "nbformat": 4,
 "nbformat_minor": 2
}
